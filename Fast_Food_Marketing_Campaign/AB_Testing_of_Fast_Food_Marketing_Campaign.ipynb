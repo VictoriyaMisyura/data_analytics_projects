{
 "cells": [
  {
   "cell_type": "markdown",
   "id": "c9530791",
   "metadata": {},
   "source": [
    "### Scenario"
   ]
  },
  {
   "cell_type": "markdown",
   "id": "12b89ca0",
   "metadata": {},
   "source": [
    "A fast-food chain plans to add a new item to its menu. However, they are still undecided between three possible marketing campaigns for promoting the new product. In order to determine which promotion has the greatest effect on sales, the new item is introduced at locations in several randomly selected markets. A different promotion is used at each location, and the weekly sales of the new item are recorded for the first four weeks."
   ]
  },
  {
   "cell_type": "markdown",
   "id": "8b85c23a",
   "metadata": {},
   "source": [
    "### Goal"
   ]
  },
  {
   "cell_type": "markdown",
   "id": "8a67efc8",
   "metadata": {},
   "source": [
    "Evaluate A/B testing results and decide which marketing strategy works the best."
   ]
  },
  {
   "cell_type": "markdown",
   "id": "0fb585cf",
   "metadata": {},
   "source": [
    "### Columns"
   ]
  },
  {
   "cell_type": "markdown",
   "id": "9da81a8d",
   "metadata": {},
   "source": [
    "__MarketID__: unique identifier for market <br />\n",
    "__MarketSize__: size of market area by sales <br />\n",
    "__LocationID__: unique identifier for store location <br />\n",
    "__AgeOfStore__: age of store in years <br />\n",
    "__Promotion__: one of three promotions that were tested <br />\n",
    "__week__: one of four weeks when the promotions were run <br />\n",
    "__SalesInThousands__: sales amount for a specific LocationID, Promotion, and week <br />"
   ]
  },
  {
   "cell_type": "markdown",
   "id": "85918ccb",
   "metadata": {},
   "source": [
    "### Exploratory Data Analysis"
   ]
  },
  {
   "cell_type": "code",
   "execution_count": 55,
   "id": "363cde12",
   "metadata": {},
   "outputs": [],
   "source": [
    "import numpy as np\n",
    "import pandas as pd\n",
    "from scipy import stats\n",
    "import matplotlib.pyplot as plt\n",
    "import seaborn as sns\n",
    "import scikit_posthocs as sp"
   ]
  },
  {
   "cell_type": "code",
   "execution_count": 8,
   "id": "0ced1a54",
   "metadata": {},
   "outputs": [],
   "source": [
    "df = pd.read_csv('WA_Marketing-Campaign.csv')"
   ]
  },
  {
   "cell_type": "code",
   "execution_count": 9,
   "id": "56c33acd",
   "metadata": {},
   "outputs": [
    {
     "data": {
      "text/html": [
       "<div>\n",
       "<style scoped>\n",
       "    .dataframe tbody tr th:only-of-type {\n",
       "        vertical-align: middle;\n",
       "    }\n",
       "\n",
       "    .dataframe tbody tr th {\n",
       "        vertical-align: top;\n",
       "    }\n",
       "\n",
       "    .dataframe thead th {\n",
       "        text-align: right;\n",
       "    }\n",
       "</style>\n",
       "<table border=\"1\" class=\"dataframe\">\n",
       "  <thead>\n",
       "    <tr style=\"text-align: right;\">\n",
       "      <th></th>\n",
       "      <th>MarketID</th>\n",
       "      <th>MarketSize</th>\n",
       "      <th>LocationID</th>\n",
       "      <th>AgeOfStore</th>\n",
       "      <th>Promotion</th>\n",
       "      <th>week</th>\n",
       "      <th>SalesInThousands</th>\n",
       "    </tr>\n",
       "  </thead>\n",
       "  <tbody>\n",
       "    <tr>\n",
       "      <th>0</th>\n",
       "      <td>1</td>\n",
       "      <td>Medium</td>\n",
       "      <td>1</td>\n",
       "      <td>4</td>\n",
       "      <td>3</td>\n",
       "      <td>1</td>\n",
       "      <td>33.73</td>\n",
       "    </tr>\n",
       "    <tr>\n",
       "      <th>1</th>\n",
       "      <td>1</td>\n",
       "      <td>Medium</td>\n",
       "      <td>1</td>\n",
       "      <td>4</td>\n",
       "      <td>3</td>\n",
       "      <td>2</td>\n",
       "      <td>35.67</td>\n",
       "    </tr>\n",
       "    <tr>\n",
       "      <th>2</th>\n",
       "      <td>1</td>\n",
       "      <td>Medium</td>\n",
       "      <td>1</td>\n",
       "      <td>4</td>\n",
       "      <td>3</td>\n",
       "      <td>3</td>\n",
       "      <td>29.03</td>\n",
       "    </tr>\n",
       "    <tr>\n",
       "      <th>3</th>\n",
       "      <td>1</td>\n",
       "      <td>Medium</td>\n",
       "      <td>1</td>\n",
       "      <td>4</td>\n",
       "      <td>3</td>\n",
       "      <td>4</td>\n",
       "      <td>39.25</td>\n",
       "    </tr>\n",
       "    <tr>\n",
       "      <th>4</th>\n",
       "      <td>1</td>\n",
       "      <td>Medium</td>\n",
       "      <td>2</td>\n",
       "      <td>5</td>\n",
       "      <td>2</td>\n",
       "      <td>1</td>\n",
       "      <td>27.81</td>\n",
       "    </tr>\n",
       "  </tbody>\n",
       "</table>\n",
       "</div>"
      ],
      "text/plain": [
       "   MarketID MarketSize  LocationID  AgeOfStore  Promotion  week  \\\n",
       "0         1     Medium           1           4          3     1   \n",
       "1         1     Medium           1           4          3     2   \n",
       "2         1     Medium           1           4          3     3   \n",
       "3         1     Medium           1           4          3     4   \n",
       "4         1     Medium           2           5          2     1   \n",
       "\n",
       "   SalesInThousands  \n",
       "0             33.73  \n",
       "1             35.67  \n",
       "2             29.03  \n",
       "3             39.25  \n",
       "4             27.81  "
      ]
     },
     "execution_count": 9,
     "metadata": {},
     "output_type": "execute_result"
    }
   ],
   "source": [
    "df.head()"
   ]
  },
  {
   "cell_type": "code",
   "execution_count": 4,
   "id": "3cee3f96",
   "metadata": {},
   "outputs": [
    {
     "data": {
      "text/plain": [
       "MarketID              int64\n",
       "MarketSize           object\n",
       "LocationID            int64\n",
       "AgeOfStore            int64\n",
       "Promotion             int64\n",
       "week                  int64\n",
       "SalesInThousands    float64\n",
       "dtype: object"
      ]
     },
     "execution_count": 4,
     "metadata": {},
     "output_type": "execute_result"
    }
   ],
   "source": [
    "df.dtypes"
   ]
  },
  {
   "cell_type": "code",
   "execution_count": 5,
   "id": "2b67081c",
   "metadata": {},
   "outputs": [
    {
     "data": {
      "text/plain": [
       "MarketID            0\n",
       "MarketSize          0\n",
       "LocationID          0\n",
       "AgeOfStore          0\n",
       "Promotion           0\n",
       "week                0\n",
       "SalesInThousands    0\n",
       "dtype: int64"
      ]
     },
     "execution_count": 5,
     "metadata": {},
     "output_type": "execute_result"
    }
   ],
   "source": [
    "df.isna().sum()"
   ]
  },
  {
   "cell_type": "code",
   "execution_count": 53,
   "id": "fc761144",
   "metadata": {},
   "outputs": [
    {
     "data": {
      "text/html": [
       "<div>\n",
       "<style scoped>\n",
       "    .dataframe tbody tr th:only-of-type {\n",
       "        vertical-align: middle;\n",
       "    }\n",
       "\n",
       "    .dataframe tbody tr th {\n",
       "        vertical-align: top;\n",
       "    }\n",
       "\n",
       "    .dataframe thead tr th {\n",
       "        text-align: left;\n",
       "    }\n",
       "\n",
       "    .dataframe thead tr:last-of-type th {\n",
       "        text-align: right;\n",
       "    }\n",
       "</style>\n",
       "<table border=\"1\" class=\"dataframe\">\n",
       "  <thead>\n",
       "    <tr>\n",
       "      <th></th>\n",
       "      <th colspan=\"4\" halign=\"left\">SalesInThousands</th>\n",
       "    </tr>\n",
       "    <tr>\n",
       "      <th></th>\n",
       "      <th>mean</th>\n",
       "      <th>median</th>\n",
       "      <th>min</th>\n",
       "      <th>max</th>\n",
       "    </tr>\n",
       "    <tr>\n",
       "      <th>Promotion</th>\n",
       "      <th></th>\n",
       "      <th></th>\n",
       "      <th></th>\n",
       "      <th></th>\n",
       "    </tr>\n",
       "  </thead>\n",
       "  <tbody>\n",
       "    <tr>\n",
       "      <th>1</th>\n",
       "      <td>58.099012</td>\n",
       "      <td>55.385</td>\n",
       "      <td>30.81</td>\n",
       "      <td>99.65</td>\n",
       "    </tr>\n",
       "    <tr>\n",
       "      <th>2</th>\n",
       "      <td>47.329415</td>\n",
       "      <td>45.385</td>\n",
       "      <td>17.34</td>\n",
       "      <td>88.64</td>\n",
       "    </tr>\n",
       "    <tr>\n",
       "      <th>3</th>\n",
       "      <td>55.364468</td>\n",
       "      <td>51.165</td>\n",
       "      <td>22.18</td>\n",
       "      <td>96.48</td>\n",
       "    </tr>\n",
       "  </tbody>\n",
       "</table>\n",
       "</div>"
      ],
      "text/plain": [
       "          SalesInThousands                      \n",
       "                      mean  median    min    max\n",
       "Promotion                                       \n",
       "1                58.099012  55.385  30.81  99.65\n",
       "2                47.329415  45.385  17.34  88.64\n",
       "3                55.364468  51.165  22.18  96.48"
      ]
     },
     "execution_count": 53,
     "metadata": {},
     "output_type": "execute_result"
    }
   ],
   "source": [
    "df.groupby('Promotion').agg({'SalesInThousands': [np.mean, np.median, min, max]})"
   ]
  },
  {
   "cell_type": "code",
   "execution_count": 319,
   "id": "8afa5de5",
   "metadata": {},
   "outputs": [
    {
     "data": {
      "text/plain": [
       "Text(0.5, 1.0, 'Revenue of Different Promotions')"
      ]
     },
     "execution_count": 319,
     "metadata": {},
     "output_type": "execute_result"
    },
    {
     "data": {
      "image/png": "[encoded data removed]",
      "text/plain": [
       "<Figure size 432x288 with 1 Axes>"
      ]
     },
     "metadata": {
      "needs_background": "light"
     },
     "output_type": "display_data"
    }
   ],
   "source": [
    "sns.boxplot(data=df, x='Promotion', y='SalesInThousands', palette=\"winter_d\")\n",
    "plt.title('Revenue of Different Promotions', fontsize=14)"
   ]
  },
  {
   "cell_type": "code",
   "execution_count": 320,
   "id": "aec74598",
   "metadata": {},
   "outputs": [
    {
     "data": {
      "text/plain": [
       "Text(0.5, 1.0, 'Revenue of Different Promotions by weeks')"
      ]
     },
     "execution_count": 320,
     "metadata": {},
     "output_type": "execute_result"
    },
    {
     "data": {
      "image/png": "[encoded data removed]",
      "text/plain": [
       "<Figure size 432x288 with 1 Axes>"
      ]
     },
     "metadata": {
      "needs_background": "light"
     },
     "output_type": "display_data"
    }
   ],
   "source": [
    "sns.barplot(data=df, x='Promotion', y='SalesInThousands', hue='week', color='teal')\n",
    "plt.title('Revenue of Different Promotions by weeks', fontsize=14)"
   ]
  },
  {
   "cell_type": "markdown",
   "id": "3455d5f1",
   "metadata": {},
   "source": [
    "→ Advertising groups 1 and 3 have higher average sales than advertising group 2, but group 1 is slightly better than group 3, and the indicators practically haven't changed from week to week."
   ]
  },
  {
   "cell_type": "code",
   "execution_count": 321,
   "id": "c9edb02b",
   "metadata": {},
   "outputs": [],
   "source": [
    "percent_of_sales = df.groupby('Promotion', as_index=True) \\\n",
    ".agg({'SalesInThousands':'sum'})['SalesInThousands'].transform(lambda x: x/x.sum())"
   ]
  },
  {
   "cell_type": "code",
   "execution_count": 322,
   "id": "9f7f0c45",
   "metadata": {},
   "outputs": [
    {
     "data": {
      "text/plain": [
       "Text(0.5, 1.0, 'Distribution of Promotions')"
      ]
     },
     "execution_count": 322,
     "metadata": {},
     "output_type": "execute_result"
    },
    {
     "data": {
      "image/png": "[encoded data removed]",
      "text/plain": [
       "<Figure size 432x432 with 1 Axes>"
      ]
     },
     "metadata": {},
     "output_type": "display_data"
    }
   ],
   "source": [
    "percent_of_sales.plot.pie(labels=[1, 2, 3],\n",
    "    colors=[\"lightseagreen\", \"teal\", \"paleturquoise\"],\n",
    "    autopct=\"%.2f\",\n",
    "    fontsize=15,\n",
    "    figsize=(6, 6))\n",
    "plt.title('Distribution of Promotions', fontsize=14)"
   ]
  },
  {
   "cell_type": "markdown",
   "id": "48b83361",
   "metadata": {},
   "source": [
    "→ The graph shows that each advertising group takes about a third of the total sales. However, advertising group 3 has the largest share of sales: almost 36%."
   ]
  },
  {
   "cell_type": "code",
   "execution_count": 323,
   "id": "aabe1123",
   "metadata": {},
   "outputs": [],
   "source": [
    "marketsize_by_promotion = df.groupby(['Promotion', 'MarketSize'], as_index=False).agg({'MarketID':'count'})"
   ]
  },
  {
   "cell_type": "code",
   "execution_count": 324,
   "id": "daa001dd",
   "metadata": {},
   "outputs": [
    {
     "data": {
      "text/plain": [
       "Text(0.5, 1.0, 'Number of Promotions by Market Sizes')"
      ]
     },
     "execution_count": 324,
     "metadata": {},
     "output_type": "execute_result"
    },
    {
     "data": {
      "image/png": "[encoded data removed]",
      "text/plain": [
       "<Figure size 432x288 with 1 Axes>"
      ]
     },
     "metadata": {
      "needs_background": "light"
     },
     "output_type": "display_data"
    }
   ],
   "source": [
    "sns.barplot(data=marketsize_by_promotion, x='Promotion', y='MarketID', hue='MarketSize', palette=\"Blues_d\")\n",
    "plt.legend(title='Market size')\n",
    "plt.title('Number of Promotions by Market Sizes', fontsize=14)"
   ]
  },
  {
   "cell_type": "markdown",
   "id": "a3cc814d",
   "metadata": {},
   "source": [
    "→ Medium-sized markets make up the largest part in each of the advertising groups, and small-sized markets make up the smallest one."
   ]
  },
  {
   "cell_type": "code",
   "execution_count": 12,
   "id": "afbd424a",
   "metadata": {},
   "outputs": [
    {
     "data": {
      "image/png": "[encoded data removed]",
      "text/plain": [
       "<Figure size 432x288 with 1 Axes>"
      ]
     },
     "metadata": {
      "needs_background": "light"
     },
     "output_type": "display_data"
    }
   ],
   "source": [
    "sns.boxplot(data=df, x='Promotion', y='AgeOfStore', palette=\"winter_d\")\n",
    "plt.title('Median Age of Store for Each Promotional Campaign', fontsize=14);"
   ]
  },
  {
   "cell_type": "markdown",
   "id": "54776458",
   "metadata": {},
   "source": [
    "→ The median age of store varies slightly between promotional campaigns, and for promotion 3 it has the highest median age."
   ]
  },
  {
   "cell_type": "markdown",
   "id": "50c9004b",
   "metadata": {},
   "source": [
    "### Forming groups"
   ]
  },
  {
   "cell_type": "code",
   "execution_count": 15,
   "id": "81b10cc9",
   "metadata": {},
   "outputs": [
    {
     "data": {
      "text/plain": [
       "(172, 7)"
      ]
     },
     "execution_count": 15,
     "metadata": {},
     "output_type": "execute_result"
    }
   ],
   "source": [
    "promotion_1 = df.loc[df['Promotion']==1]\n",
    "promotion_1.shape"
   ]
  },
  {
   "cell_type": "code",
   "execution_count": 16,
   "id": "5340a674",
   "metadata": {},
   "outputs": [
    {
     "data": {
      "text/plain": [
       "(188, 7)"
      ]
     },
     "execution_count": 16,
     "metadata": {},
     "output_type": "execute_result"
    }
   ],
   "source": [
    "promotion_2 = df.loc[df['Promotion']==2]\n",
    "promotion_2.shape"
   ]
  },
  {
   "cell_type": "code",
   "execution_count": 17,
   "id": "e0ceda10",
   "metadata": {},
   "outputs": [
    {
     "data": {
      "text/plain": [
       "(188, 7)"
      ]
     },
     "execution_count": 17,
     "metadata": {},
     "output_type": "execute_result"
    }
   ],
   "source": [
    "promotion_3 = df.loc[df['Promotion']==3]\n",
    "promotion_3.shape"
   ]
  },
  {
   "cell_type": "markdown",
   "id": "4890bbad",
   "metadata": {},
   "source": [
    "### Comparing groups for statistical differences"
   ]
  },
  {
   "cell_type": "markdown",
   "id": "0781fe51",
   "metadata": {},
   "source": [
    "__Testing the assumptions of independent samples__"
   ]
  },
  {
   "cell_type": "markdown",
   "id": "15b0c405",
   "metadata": {},
   "source": [
    "The hypothesis of normality assumption (Shapiro-Wilk test)\n",
    "\n",
    "H0: the sample data was drawn from a normal distribution <br />\n",
    "H1: the sample data was drawn from a non-normal distribution"
   ]
  },
  {
   "cell_type": "code",
   "execution_count": 33,
   "id": "3241eb85",
   "metadata": {},
   "outputs": [
    {
     "name": "stdout",
     "output_type": "stream",
     "text": [
      "For promotional group 1: Test Stat = 0.9153, p-value = 0.0000\n"
     ]
    }
   ],
   "source": [
    "test_stat_test_1, pvalue_test_1 = stats.shapiro(promotion_1['SalesInThousands'])\n",
    "print('For promotional group 1: Test Stat = %.4f, p-value = %.4f' % (test_stat_test_1, pvalue_test_1)) "
   ]
  },
  {
   "cell_type": "code",
   "execution_count": 34,
   "id": "eec722cd",
   "metadata": {},
   "outputs": [
    {
     "name": "stdout",
     "output_type": "stream",
     "text": [
      "For promotional group 2: Test Stat = 0.9145, p-value = 0.0000\n"
     ]
    }
   ],
   "source": [
    "test_stat_test_2, pvalue_test_2 = stats.shapiro(promotion_2['SalesInThousands'])\n",
    "print('For promotional group 2: Test Stat = %.4f, p-value = %.4f' % (test_stat_test_2, pvalue_test_2))"
   ]
  },
  {
   "cell_type": "code",
   "execution_count": 35,
   "id": "fc82f197",
   "metadata": {},
   "outputs": [
    {
     "name": "stdout",
     "output_type": "stream",
     "text": [
      "For promotional group 2: Test Stat = 0.9208, p-value = 0.0000\n"
     ]
    }
   ],
   "source": [
    "test_stat_test_3, pvalue_test_3 = stats.shapiro(promotion_3['SalesInThousands'])\n",
    "print('For promotional group 2: Test Stat = %.4f, p-value = %.4f' % (test_stat_test_3, pvalue_test_3))"
   ]
  },
  {
   "cell_type": "markdown",
   "id": "6f5d45f4",
   "metadata": {},
   "source": [
    "→ For all three samples p-value less than 0.05, so we reject the null hypothesis that the data is normally distributed."
   ]
  },
  {
   "cell_type": "markdown",
   "id": "27f23881",
   "metadata": {},
   "source": [
    "The Hypothesis of homogeneity of variances (Levene Test)\n",
    "\n",
    "H0: The variances are equal across all samples <br />\n",
    "H1: The variances are not equal for at least one pair"
   ]
  },
  {
   "cell_type": "code",
   "execution_count": 39,
   "id": "791e0fbc",
   "metadata": {},
   "outputs": [
    {
     "name": "stdout",
     "output_type": "stream",
     "text": [
      "Test Stat = 1.2697, p-value = 0.2818\n"
     ]
    }
   ],
   "source": [
    "test_stat, pvalue = stats.levene(promotion_1['SalesInThousands'], promotion_2['SalesInThousands'], promotion_3['SalesInThousands'])\n",
    "print('Test Stat = %.4f, p-value = %.4f' % (test_stat, pvalue)) "
   ]
  },
  {
   "cell_type": "markdown",
   "id": "09ac6cd2",
   "metadata": {},
   "source": [
    "→ p-value higher than 0.05, the H0 hypothesis can not be rejected, so variances are homogeneous."
   ]
  },
  {
   "cell_type": "markdown",
   "id": "e0752f49",
   "metadata": {},
   "source": [
    "Standard deviations are very similar, but the normality assumption was rejected, so we should apply non-parametric tests. We will use the Kruskal-Wallis one-way ANOVA."
   ]
  },
  {
   "cell_type": "markdown",
   "id": "413c6378",
   "metadata": {},
   "source": [
    "__A/B Test Hypothesis:__\n",
    "- H0 (M1 = M2 = M3) : There is no statistically significant difference in revenue between advertising groups.\n",
    "\n",
    "- H1 (M1 != M2 != M3) : There is a statistically significant difference in revenue between advertising groups."
   ]
  },
  {
   "cell_type": "code",
   "execution_count": 40,
   "id": "60ce7ddc",
   "metadata": {},
   "outputs": [
    {
     "data": {
      "text/plain": [
       "KruskalResult(statistic=53.29475169322799, pvalue=2.6741866266697816e-12)"
      ]
     },
     "execution_count": 40,
     "metadata": {},
     "output_type": "execute_result"
    }
   ],
   "source": [
    "stats.kruskal(promotion_1['SalesInThousands'], promotion_2['SalesInThousands'], promotion_3['SalesInThousands'])"
   ]
  },
  {
   "cell_type": "markdown",
   "id": "252871af",
   "metadata": {},
   "source": [
    "→ p-value less than 0.05, the null hypothesis can be rejected. So we will apply a post-hoc test to understand how they differ. We will use a non-parametric equivalent of Tukey HSD - Dunn's test."
   ]
  },
  {
   "cell_type": "code",
   "execution_count": 51,
   "id": "489e5e63",
   "metadata": {},
   "outputs": [
    {
     "data": {
      "text/html": [
       "<div>\n",
       "<style scoped>\n",
       "    .dataframe tbody tr th:only-of-type {\n",
       "        vertical-align: middle;\n",
       "    }\n",
       "\n",
       "    .dataframe tbody tr th {\n",
       "        vertical-align: top;\n",
       "    }\n",
       "\n",
       "    .dataframe thead th {\n",
       "        text-align: right;\n",
       "    }\n",
       "</style>\n",
       "<table border=\"1\" class=\"dataframe\">\n",
       "  <thead>\n",
       "    <tr style=\"text-align: right;\">\n",
       "      <th></th>\n",
       "      <th>1</th>\n",
       "      <th>2</th>\n",
       "      <th>3</th>\n",
       "    </tr>\n",
       "  </thead>\n",
       "  <tbody>\n",
       "    <tr>\n",
       "      <th>1</th>\n",
       "      <td>1.000000e+00</td>\n",
       "      <td>2.153947e-12</td>\n",
       "      <td>4.862200e-02</td>\n",
       "    </tr>\n",
       "    <tr>\n",
       "      <th>2</th>\n",
       "      <td>2.153947e-12</td>\n",
       "      <td>1.000000e+00</td>\n",
       "      <td>2.361023e-07</td>\n",
       "    </tr>\n",
       "    <tr>\n",
       "      <th>3</th>\n",
       "      <td>4.862200e-02</td>\n",
       "      <td>2.361023e-07</td>\n",
       "      <td>1.000000e+00</td>\n",
       "    </tr>\n",
       "  </tbody>\n",
       "</table>\n",
       "</div>"
      ],
      "text/plain": [
       "              1             2             3\n",
       "1  1.000000e+00  2.153947e-12  4.862200e-02\n",
       "2  2.153947e-12  1.000000e+00  2.361023e-07\n",
       "3  4.862200e-02  2.361023e-07  1.000000e+00"
      ]
     },
     "execution_count": 51,
     "metadata": {},
     "output_type": "execute_result"
    }
   ],
   "source": [
    "sp.posthoc_dunn([promotion_1['SalesInThousands'], promotion_2['SalesInThousands'], promotion_3['SalesInThousands']])"
   ]
  },
  {
   "cell_type": "markdown",
   "id": "14d75551",
   "metadata": {},
   "source": [
    "→ p-value less than 0.05 for all comparisons, so all the promotions have statistically significant differences."
   ]
  },
  {
   "cell_type": "markdown",
   "id": "f89aa069",
   "metadata": {},
   "source": [
    "__Results:__\n",
    "There is a statistical difference in revenue between all advertising groups, and promotion 1 has the highest revenue, therefore, it is the most efficient of the three. Thus we recommend using the first advertising campaign for promotion their new products in stores."
   ]
  },
  {
   "cell_type": "code",
   "execution_count": null,
   "id": "af312127",
   "metadata": {},
   "outputs": [],
   "source": []
  }
 ],
 "metadata": {
  "kernelspec": {
   "display_name": "Python 3 (ipykernel)",
   "language": "python",
   "name": "python3"
  },
  "language_info": {
   "codemirror_mode": {
    "name": "ipython",
    "version": 3
   },
   "file_extension": ".py",
   "mimetype": "text/x-python",
   "name": "python",
   "nbconvert_exporter": "python",
   "pygments_lexer": "ipython3",
   "version": "3.9.7"
  }
 },
 "nbformat": 4,
 "nbformat_minor": 5
}
